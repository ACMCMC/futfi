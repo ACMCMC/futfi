{
 "cells": [
  {
   "cell_type": "code",
   "execution_count": 1,
   "metadata": {
    "collapsed": false
   },
   "outputs": [
    {
     "name": "stdout",
     "output_type": "stream",
     "text": [
      "('t_phl:', 4.85203026391962e-10)\n",
      "('t_plh:', 9.70406052783923e-10)\n"
     ]
    }
   ],
   "source": [
    "#EJ 1_A\n",
    "t_phl = ln(2)*3.5e3*0.2e-12\n",
    "t_plh = ln(2)*7e3*0.2e-12\n",
    "\n",
    "print('t_phl:', t_phl.n())\n",
    "print('t_plh:', t_plh.n())"
   ]
  },
  {
   "cell_type": "code",
   "execution_count": 2,
   "metadata": {
    "collapsed": false
   },
   "outputs": [
    {
     "name": "stdout",
     "output_type": "stream",
     "text": [
      "(s, 'menor que', 721.347520444482)\n",
      "('Tamano del NMOS: ', 2.42601513195981e-6)\n",
      "('Tamano del PMOS: ', 4.85203026391962e-6)\n"
     ]
    }
   ],
   "source": [
    "#EJ 1_D\n",
    "var('s')\n",
    "resistencia_necesaria = ln(2)*s*0.2e-12 < 0.1e-9\n",
    "print(solve(resistencia_necesaria,s)[0][0].lhs(), 'menor que', solve(resistencia_necesaria,s)[0][0].rhs().n())\n",
    "tam_nmos = 3.5e3*500e-9/solve(resistencia_necesaria,s)[0][0].rhs()\n",
    "tam_pmos = 7e3*500e-9/solve(resistencia_necesaria,s)[0][0].rhs()\n",
    "print('Tamano del NMOS: ',tam_nmos.n())\n",
    "print('Tamano del PMOS: ',tam_pmos.n())"
   ]
  },
  {
   "cell_type": "code",
   "execution_count": 3,
   "metadata": {
    "collapsed": false
   },
   "outputs": [
    {
     "name": "stdout",
     "output_type": "stream",
     "text": [
      "('numero de inversores:', 7.55287009063444)\n",
      "('inversa de la frecuencia', 2.50000000000000e-10)\n"
     ]
    }
   ],
   "source": [
    "#EJ 2\n",
    "num_inversores = 1/(4e9*(16.9e-12+16.2e-12))\n",
    "print('numero de inversores:', num_inversores)\n",
    "\n",
    "print('inversa de la frecuencia', 1/4e9)"
   ]
  },
  {
   "cell_type": "code",
   "execution_count": 4,
   "metadata": {
    "collapsed": false
   },
   "outputs": [
    {
     "name": "stdout",
     "output_type": "stream",
     "text": [
      "('t_phl:', 2.42601513195981e-8)\n",
      "('t_plh:', 2.15645789507539e-8)\n"
     ]
    }
   ],
   "source": [
    "#EJ 3_a\n",
    "resistencia_pmos = 7e3*500e-9/1125e-9\n",
    "\n",
    "t_phl = ln(2)*3.5e3*10e-12\n",
    "t_plh = ln(2)*resistencia_pmos*10e-12\n",
    "\n",
    "print('t_phl:', t_phl.n())\n",
    "print('t_plh:', t_plh.n())"
   ]
  },
  {
   "cell_type": "code",
   "execution_count": 5,
   "metadata": {
    "collapsed": false
   },
   "outputs": [
    {
     "name": "stdout",
     "output_type": "stream",
     "text": [
      "('necesitamos:', 5.83444321348101, 'inversores, que se redondean a', 7)\n",
      "('el escalado sera', 3)\n",
      "('tamanos nmos:', [500, 1500, 4500, 13500, 40500, 121500, 364500])\n",
      "('tamanos pmos:', [1125.00000000000, 3375.00000000000, 10125.0000000000, 30375.0000000000, 91125.0000000000, 273375.000000000, 820125.000000000])\n"
     ]
    }
   ],
   "source": [
    "#EJ 3_B\n",
    "C_in_nmos = 0.63e-15 #0.63 fF\n",
    "C_in_pmos = C_in_nmos*2.25 #el pmos tiene 2.25 veces más anchura\n",
    "C_in = 1.5*(C_in_nmos+C_in_pmos)\n",
    "C_l = 10e-12 #10 pF\n",
    "F = C_l/C_in\n",
    "var('n')\n",
    "num_inversores = (ln(4) == (1/n)*ln(F))\n",
    "total_inversores = ceil(solve(num_inversores, n)[0].rhs().n()) if ceil(solve(num_inversores, n)[0].rhs().n())%2 == 1 else ceil(solve(num_inversores, n)[0].rhs().n())+1\n",
    "print('necesitamos:', solve(num_inversores, n)[0].rhs().n(), 'inversores, que se redondean a', total_inversores)\n",
    "escalado = F^(1/total_inversores)\n",
    "print('el escalado sera', round(escalado))\n",
    "print('tamanos nmos:', [round(escalado)^i*500 for i in range(total_inversores)])\n",
    "print('tamanos pmos:', [round(escalado)^i*500*2.25 for i in range(total_inversores)])"
   ]
  }
 ],
 "metadata": {
  "kernelspec": {
   "display_name": "SageMath (system-wide)",
   "language": "sagemath",
   "metadata": {
    "cocalc": {
     "description": "Open-source mathematical software system",
     "priority": -1,
     "url": "https://www.sagemath.org/"
    }
   },
   "name": "sagemath"
  },
  "language_info": {
   "codemirror_mode": {
    "name": "ipython",
    "version": 2
   },
   "file_extension": ".py",
   "mimetype": "text/x-python",
   "name": "python",
   "nbconvert_exporter": "python",
   "pygments_lexer": "ipython2",
   "version": "2.7.15"
  }
 },
 "nbformat": 4,
 "nbformat_minor": 4
}